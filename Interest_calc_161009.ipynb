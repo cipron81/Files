{
 "cells": [
  {
   "cell_type": "markdown",
   "metadata": {},
   "source": [
    "https://ja.wikipedia.org/wiki/%E7%AD%89%E6%AF%94%E6%95%B0%E5%88%97\n",
    "\n",
    "http://stackoverflow.com/questions/1525611/python-smarter-way-to-calculate-loan-payments"
   ]
  },
  {
   "cell_type": "code",
   "execution_count": 1,
   "metadata": {
    "collapsed": true
   },
   "outputs": [],
   "source": [
    "# Mortgage Loan that gives the balance and total payment per year\n",
    "# Function that gives the monthly payment\n",
    "def f1 (principle,annual_interest_rate,duration_y):\n",
    "    r = annual_interest_rate/1200\n",
    "    n = duration_y*12\n",
    "    a=principle*r*((1+r)**n) \n",
    "    b= (((1+r)**n)- 1) \n",
    "    if r>0:\n",
    "        MonthlyPayment = (a/b) \n",
    "    else :\n",
    "        MonthlyPayment = principle/n \n",
    "    \n",
    "    return MonthlyPayment\n",
    " \n",
    "# Function that gives the balance\n",
    "def f2 (principle,annual_interest_rate,duration_y,number_of_payments): \n",
    "    r = annual_interest_rate/1200\n",
    "    n = duration_y*12\n",
    "    a= ((1+r)**n)\n",
    "    b= ((1+r)**number_of_payments)\n",
    "    c= (((1+r)**n)-1)\n",
    "    if r>0:\n",
    "        RemainingLoanBalance = principle*((a-b)/c) \n",
    "    else :\n",
    "        RemainingLoanBalance = principle*(1-(number_of_payments/n))\n",
    "    \n",
    "    return RemainingLoanBalance\n",
    "\n",
    "\n",
    "# Function that gives  interest paid and principle paid\n",
    "def f3 (principle, annual_interest_rate, payment_times, monthly_paymennt):\n",
    "    principle_left = principle\n",
    "    interest_paid = 0\n",
    "    principle_paid = 0\n",
    "    for i in range(1, payment_times +1):\n",
    "        monthly_interest = principle_left*annual_interest_rate/1200\n",
    "        principle_paid += monthly_paymennt - monthly_interest \n",
    "        interest_paid  += monthly_interest\n",
    "        principle_left -= monthly_paymennt - monthly_interest\n",
    "    return(principle_paid , interest_paid) "
   ]
  },
  {
   "cell_type": "code",
   "execution_count": 2,
   "metadata": {
    "collapsed": false
   },
   "outputs": [
    {
     "name": "stdout",
     "output_type": "stream",
     "text": [
      "Enter loan amount: 20000000\n",
      "Enter annual interest rate (percent): 1.8\n",
      "Enter loan duration in years: 20\n",
      "LOAN AMOUNT: 20000000.0 INTEREST RATE (PERCENT): 1.8\n",
      "DURATION (YEARS): 20 MONTHLY PAYMENT: 99293\n"
     ]
    }
   ],
   "source": [
    "# Entering the required values\n",
    "principle=float(input(\"Enter loan amount: \")) \n",
    "annual_interest_rate=float(input(\"Enter annual interest rate (percent): \")) \n",
    "duration=int(input(\"Enter loan duration in years: \"))\n",
    "\n",
    "# Output that returns all useful data needed\n",
    "print (\"LOAN AMOUNT:\",principle,\"INTEREST RATE (PERCENT):\",annual_interest_rate) \n",
    "print (\"DURATION (YEARS):\",duration,\"MONTHLY PAYMENT:\",int(f1(principle,annual_interest_rate,duration)))"
   ]
  },
  {
   "cell_type": "code",
   "execution_count": 3,
   "metadata": {
    "collapsed": false
   },
   "outputs": [
    {
     "name": "stdout",
     "output_type": "stream",
     "text": [
      "YEAR: 1 BALANCE: 19161587 TOTAL PAYMENT 1191518\n",
      "YEAR: 2 BALANCE: 18307957 TOTAL PAYMENT 2383037\n",
      "YEAR: 3 BALANCE: 17438835 TOTAL PAYMENT 3574555\n",
      "YEAR: 4 BALANCE: 16553939 TOTAL PAYMENT 4766074\n",
      "YEAR: 5 BALANCE: 15652982 TOTAL PAYMENT 5957592\n",
      "YEAR: 6 BALANCE: 14735674 TOTAL PAYMENT 7149111\n",
      "YEAR: 7 BALANCE: 13801718 TOTAL PAYMENT 8340629\n",
      "YEAR: 8 BALANCE: 12850811 TOTAL PAYMENT 9532148\n",
      "YEAR: 9 BALANCE: 11882645 TOTAL PAYMENT 10723666\n",
      "YEAR: 10 BALANCE: 10896908 TOTAL PAYMENT 11915185\n",
      "YEAR: 11 BALANCE: 9893281 TOTAL PAYMENT 13106703\n",
      "YEAR: 12 BALANCE: 8871439 TOTAL PAYMENT 14298222\n",
      "YEAR: 13 BALANCE: 7831051 TOTAL PAYMENT 15489740\n",
      "YEAR: 14 BALANCE: 6771781 TOTAL PAYMENT 16681259\n",
      "YEAR: 15 BALANCE: 5693286 TOTAL PAYMENT 17872777\n",
      "YEAR: 16 BALANCE: 4595217 TOTAL PAYMENT 19064296\n",
      "YEAR: 17 BALANCE: 3477219 TOTAL PAYMENT 20255814\n",
      "YEAR: 18 BALANCE: 2338930 TOTAL PAYMENT 21447333\n",
      "YEAR: 19 BALANCE: 1179982 TOTAL PAYMENT 22638851\n",
      "YEAR: 20 BALANCE: 0 TOTAL PAYMENT 23830370\n"
     ]
    }
   ],
   "source": [
    "k=duration+1 \n",
    "BALANCE=principle \n",
    "total=0\n",
    "for i in range (1,k):\n",
    "    TOTALPAYMENT= f1(BALANCE,annual_interest_rate,k-i)*12\n",
    "    total+= TOTALPAYMENT\n",
    "    BALANCE= f2(principle,annual_interest_rate,duration,12*i) \n",
    "    print(\"YEAR:\",i,\"BALANCE:\",int(BALANCE),\"TOTAL PAYMENT\",int(total))"
   ]
  },
  {
   "cell_type": "code",
   "execution_count": 4,
   "metadata": {
    "collapsed": false
   },
   "outputs": [
    {
     "name": "stdout",
     "output_type": "stream",
     "text": [
      "(19999939.46952087, 3830380.53047913)\n",
      "3830370\n"
     ]
    }
   ],
   "source": [
    "# Case1 そのまま払った場合\n",
    "# 2000万円 1.8% 20年 の契約だった場合\n",
    "print(f3(20000000, 1.8, 240, 99293) )\n",
    "print(23830370 - 20000000) \n",
    "#total interest = 3830370"
   ]
  },
  {
   "cell_type": "code",
   "execution_count": 5,
   "metadata": {
    "collapsed": false
   },
   "outputs": [
    {
     "name": "stdout",
     "output_type": "stream",
     "text": [
      "(2561156.986075313, 1013391.0139246876)\n",
      "17438843\n",
      "(7485311.452504882, 458128.54749512096)\n",
      "20046468\n",
      "1571520\n"
     ]
    }
   ],
   "source": [
    "# Case2 ３年支払い後に1０M繰り上げ返済\n",
    "print(f3(20000000, 1.8, 36, 99293) )\n",
    "print(20000000 - 2561157)  # 17438843 left\n",
    "\n",
    "print(f3 (7438843,1.8, 80 , 99293))  #80 payments left\n",
    "print(2561157 + 7485311 + 10000000)\n",
    "\n",
    "print(1013391 + 458129 + 100000) # if charge is 1.0%\n",
    "\n",
    "# total interest + charge = 1571520"
   ]
  },
  {
   "cell_type": "code",
   "execution_count": 6,
   "metadata": {
    "collapsed": false
   },
   "outputs": [
    {
     "name": "stdout",
     "output_type": "stream",
     "text": [
      "(2561156.986075313, 1013391.0139246876)\n",
      "221114.35318444044\n",
      "(17438892.85769024, 1134767.1423097611)\n",
      "2158158\n"
     ]
    }
   ],
   "source": [
    "# Case3 3年支払後に返済期間をあと7年に変更\n",
    "print(f3(20000000, 1.8, 36, 99293) )\n",
    "print(f1(17438835, 1.8, 7))  #get new manthly_payment\n",
    "print(f3(17438835, 1.8, 84, 221115))\n",
    " \n",
    "print(1013391 + 1134767 + 10000)\n",
    "# total interest + charge = 2158158"
   ]
  }
 ],
 "metadata": {
  "anaconda-cloud": {},
  "kernelspec": {
   "display_name": "Python [conda root]",
   "language": "python",
   "name": "conda-root-py"
  },
  "language_info": {
   "codemirror_mode": {
    "name": "ipython",
    "version": 3
   },
   "file_extension": ".py",
   "mimetype": "text/x-python",
   "name": "python",
   "nbconvert_exporter": "python",
   "pygments_lexer": "ipython3",
   "version": "3.5.2"
  }
 },
 "nbformat": 4,
 "nbformat_minor": 1
}
